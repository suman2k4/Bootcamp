import tensorflow as tf
import numpy as np
import matplotlib.pyplot as plt
import cv2
import os

# Define dataset path
dataset_path = "D:\\suman.aids\\Cats vs Dogs"

# Function to load and process the image
def load_and_process_image(sample_digit):
    try:
        image_files = os.listdir(os.path.join(dataset_path, sample_digit))
        image_path = os.path.join(dataset_path, sample_digit, image_files[0])
        image = cv2.imread(image_path, cv2.IMREAD_GRAYSCALE)
        if image is None:
            raise ValueError("Image not found or unable to load.")
        image = cv2.resize(image, (62, 62))
        image = image.astype(np.float32) / 255.0
        return np.expand_dims(image, axis=(0, -1))
    except Exception as e:
        print(f"Error loading image: {e}")
        return None

# Load the image
image = load_and_process_image("Petimages\\Cat")
if image is None:
    raise SystemExit("Exiting due to image loading error.")

# Define kernel weights
kernel = np.array([[1, 0, 0], [0, 1, 0], [0, 0, 1]], dtype=np.float32)
kernel = kernel.reshape((3, 3, 1, 1))

# Perform convolution
image_tensor = tf.convert_to_tensor(image, dtype=tf.float32)
image_tensor = tf.reshape(image_tensor, [1, 62, 62, 1])
conv_result = tf.nn.conv2d(image_tensor, filters=kernel, strides=1, padding="VALID")

# Generate feature map
feature_map = conv_result.numpy().squeeze()

# Apply ReLU activation
relu_result = tf.nn.relu(conv_result)

# Apply max pooling
pooled_result = tf.nn.max_pool(relu_result, ksize=2, strides=2, padding="VALID")
pooled_feature_map = pooled_result.numpy().squeeze()

# Display results
plt.figure(figsize=(15, 5))
plt.subplot(1, 3, 1)
plt.title("Original Image")
plt.imshow(image, cmap="gray")
plt.axis("off")

plt.subplot(1, 3, 2)
plt.title("Feature Map after Convolution")
plt.imshow(feature_map, cmap="gray")
plt.axis("off")

plt.subplot(1, 3, 3)
plt.title("Feature Map after ReLU & Max Pooling")
plt.imshow(pooled_feature_map, cmap="gray")
plt.axis("off")

plt.show()
